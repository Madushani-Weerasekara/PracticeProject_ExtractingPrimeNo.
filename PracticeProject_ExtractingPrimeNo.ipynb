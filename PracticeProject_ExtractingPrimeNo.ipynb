{
  "nbformat": 4,
  "nbformat_minor": 0,
  "metadata": {
    "colab": {
      "provenance": [],
      "name": "PracticeProject_ExtractingPrimeNo.ipynb",
      "authorship_tag": "ABX9TyM+Gs6fha1h+z8QImcL7LtB",
      "include_colab_link": true
    },
    "kernelspec": {
      "name": "python3",
      "display_name": "Python 3"
    },
    "language_info": {
      "name": "python"
    }
  },
  "cells": [
    {
      "cell_type": "markdown",
      "metadata": {
        "id": "view-in-github",
        "colab_type": "text"
      },
      "source": [
        "<a href=\"https://colab.research.google.com/github/Madushani-Weerasekara/PracticeProject_ExtractingPrimeNo./blob/main/PracticeProject_ExtractingPrimeNo.ipynb\" target=\"_parent\"><img src=\"https://colab.research.google.com/assets/colab-badge.svg\" alt=\"Open In Colab\"/></a>"
      ]
    },
    {
      "cell_type": "code",
      "execution_count": 6,
      "metadata": {
        "id": "mNWStRRDjsV6"
      },
      "outputs": [],
      "source": [
        "def check(numbers):\n",
        "  primeNumber = []\n",
        "  for number in numbers:\n",
        "        if number > 1:\n",
        "            for i in range(2, int(number/2) + 1):\n",
        "                if (number % i) == 0: # If number is devisible by any number between 2 and number/2, it is not prime\n",
        "                    print(number, \"is not a prime number\")\n",
        "                    break\n",
        "            else:\n",
        "                print(number, \"is a prime number\")\n"
      ]
    }
  ]
}