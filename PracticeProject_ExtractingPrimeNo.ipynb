{
  "nbformat": 4,
  "nbformat_minor": 0,
  "metadata": {
    "colab": {
      "provenance": [],
      "name": "PracticeProject_ExtractingPrimeNo.ipynb",
      "authorship_tag": "ABX9TyPg/5RBVkpAxr4g0dDoBTbf",
      "include_colab_link": true
    },
    "kernelspec": {
      "name": "python3",
      "display_name": "Python 3"
    },
    "language_info": {
      "name": "python"
    }
  },
  "cells": [
    {
      "cell_type": "markdown",
      "metadata": {
        "id": "view-in-github",
        "colab_type": "text"
      },
      "source": [
        "<a href=\"https://colab.research.google.com/github/Madushani-Weerasekara/PracticeProject_ExtractingPrimeNo./blob/main/PracticeProject_ExtractingPrimeNo.ipynb\" target=\"_parent\"><img src=\"https://colab.research.google.com/assets/colab-badge.svg\" alt=\"Open In Colab\"/></a>"
      ]
    },
    {
      "cell_type": "code",
      "source": [
        "def check(numbers):\n",
        "    primeNumber = []\n",
        "    for number in numbers:\n",
        "        if number > 1:\n",
        "            for i in range(2, int(number/2) + 1):\n",
        "                if (number % i) == 0:\n",
        "                    print(number, \"is not a prime number\")\n",
        "                    break\n",
        "            else:\n",
        "                print(number, \"is a prime number\")\n",
        "                primeNumber.append(number)\n",
        "    return primeNumber"
      ],
      "metadata": {
        "id": "mB2L3urQ2PQL"
      },
      "execution_count": 17,
      "outputs": []
    },
    {
      "cell_type": "code",
      "source": [
        "check([2,3,4,5,6,7,8,9])"
      ],
      "metadata": {
        "id": "xVapjVdE2REb",
        "outputId": "84e7f529-a708-4db2-c1ac-22e4dc8b9c74",
        "colab": {
          "base_uri": "https://localhost:8080/"
        }
      },
      "execution_count": 18,
      "outputs": [
        {
          "output_type": "stream",
          "name": "stdout",
          "text": [
            "2 is a prime number\n",
            "3 is a prime number\n",
            "4 is not a prime number\n",
            "5 is a prime number\n",
            "6 is not a prime number\n",
            "7 is a prime number\n",
            "8 is not a prime number\n",
            "9 is not a prime number\n"
          ]
        },
        {
          "output_type": "execute_result",
          "data": {
            "text/plain": [
              "[2, 3, 5, 7]"
            ]
          },
          "metadata": {},
          "execution_count": 18
        }
      ]
    }
  ]
}